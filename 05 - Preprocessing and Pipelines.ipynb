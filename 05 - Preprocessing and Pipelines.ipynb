{
 "cells": [
  {
   "cell_type": "markdown",
   "metadata": {},
   "source": [
    "Preprocessing and Pipelines\n",
    "============================="
   ]
  },
  {
   "cell_type": "code",
   "execution_count": 19,
   "metadata": {
    "collapsed": false
   },
   "outputs": [],
   "source": [
    "from sklearn.datasets import load_digits\n",
    "from sklearn.cross_validation import train_test_split\n",
    "digits = load_digits()\n",
    "X_train, X_test, y_train, y_test = train_test_split(digits.data,\n",
    "                                                    digits.target)"
   ]
  },
  {
   "cell_type": "markdown",
   "metadata": {},
   "source": [
    "Cross-validated pipelines including scaling, we need to estimate mean and standard deviation separately for each fold.\n",
    "To do that, we build a pipeline."
   ]
  },
  {
   "cell_type": "code",
   "execution_count": 20,
   "metadata": {
    "collapsed": false
   },
   "outputs": [],
   "source": [
    "from sklearn.pipeline import Pipeline, make_pipeline\n",
    "from sklearn.svm import SVC\n",
    "from sklearn.preprocessing import StandardScaler"
   ]
  },
  {
   "cell_type": "code",
   "execution_count": 21,
   "metadata": {
    "collapsed": true
   },
   "outputs": [],
   "source": [
    "standard_scaler = StandardScaler()\n",
    "standard_scaler.fit(X_train)\n",
    "X_train_scaled = standard_scaler.transform(X_train)\n",
    "svm = SVC().fit(X_train_scaled, y_train)"
   ]
  },
  {
   "cell_type": "code",
   "execution_count": 22,
   "metadata": {
    "collapsed": false
   },
   "outputs": [],
   "source": [
    "#pipeline = Pipeline([(\"scaler\", StandardScaler()),\n",
    "#                     (\"svm\", SVC())])\n",
    "# short version:\n",
    "pipeline = make_pipeline(StandardScaler(), SVC())"
   ]
  },
  {
   "cell_type": "code",
   "execution_count": 23,
   "metadata": {
    "collapsed": false
   },
   "outputs": [
    {
     "data": {
      "text/plain": [
       "Pipeline(steps=[('standardscaler', StandardScaler(copy=True, with_mean=True, with_std=True)), ('svc', SVC(C=1.0, cache_size=200, class_weight=None, coef0=0.0,\n",
       "  decision_function_shape=None, degree=3, gamma='auto', kernel='rbf',\n",
       "  max_iter=-1, probability=False, random_state=None, shrinking=True,\n",
       "  tol=0.001, verbose=False))])"
      ]
     },
     "execution_count": 23,
     "metadata": {},
     "output_type": "execute_result"
    }
   ],
   "source": [
    "pipeline.fit(X_train, y_train)"
   ]
  },
  {
   "cell_type": "code",
   "execution_count": 24,
   "metadata": {
    "collapsed": false
   },
   "outputs": [
    {
     "data": {
      "text/plain": [
       "0.97111111111111115"
      ]
     },
     "execution_count": 24,
     "metadata": {},
     "output_type": "execute_result"
    }
   ],
   "source": [
    "pipeline.score(X_test, y_test)"
   ]
  },
  {
   "cell_type": "code",
   "execution_count": 25,
   "metadata": {
    "collapsed": false,
    "scrolled": true
   },
   "outputs": [
    {
     "data": {
      "text/plain": [
       "array([0, 6, 8, 9, 8, 0, 5, 6, 9, 3, 4, 6, 8, 3, 7, 5, 3, 4, 8, 7, 0, 0, 4,\n",
       "       3, 9, 2, 1, 9, 1, 8, 7, 7, 2, 9, 9, 8, 0, 1, 5, 3, 0, 7, 5, 8, 8, 4,\n",
       "       2, 5, 0, 5, 0, 5, 0, 9, 1, 0, 6, 1, 0, 5, 9, 4, 8, 8, 3, 5, 0, 3, 7,\n",
       "       8, 0, 8, 3, 2, 3, 7, 3, 2, 1, 5, 0, 8, 1, 1, 4, 7, 6, 2, 4, 3, 0, 0,\n",
       "       5, 1, 3, 3, 8, 2, 4, 9, 6, 4, 2, 8, 9, 3, 9, 2, 4, 6, 6, 0, 3, 7, 8,\n",
       "       9, 5, 8, 5, 8, 9, 7, 4, 8, 7, 4, 4, 4, 7, 8, 1, 8, 5, 9, 0, 0, 9, 0,\n",
       "       5, 8, 0, 4, 4, 0, 3, 1, 0, 2, 0, 1, 0, 2, 6, 8, 5, 2, 8, 3, 1, 2, 0,\n",
       "       7, 0, 5, 4, 1, 2, 1, 3, 3, 7, 7, 2, 0, 1, 2, 0, 8, 7, 0, 7, 2, 3, 5,\n",
       "       8, 2, 9, 8, 7, 9, 9, 4, 8, 6, 6, 1, 2, 4, 4, 8, 1, 2, 5, 5, 6, 6, 1,\n",
       "       7, 9, 7, 4, 5, 2, 3, 1, 6, 2, 9, 5, 6, 8, 9, 8, 3, 5, 1, 0, 3, 2, 8,\n",
       "       8, 8, 9, 9, 5, 4, 0, 6, 1, 4, 0, 2, 1, 3, 3, 4, 2, 1, 2, 5, 4, 9, 2,\n",
       "       8, 3, 2, 8, 2, 4, 8, 0, 6, 3, 6, 5, 7, 0, 8, 0, 0, 7, 1, 5, 5, 0, 8,\n",
       "       0, 8, 2, 2, 2, 6, 8, 5, 6, 3, 3, 9, 5, 4, 2, 9, 7, 0, 6, 0, 4, 0, 6,\n",
       "       2, 4, 1, 0, 8, 5, 0, 3, 0, 7, 1, 8, 5, 9, 6, 5, 7, 7, 1, 4, 4, 3, 7,\n",
       "       4, 8, 4, 3, 6, 4, 6, 9, 9, 8, 6, 2, 3, 5, 1, 4, 5, 2, 4, 6, 2, 9, 2,\n",
       "       4, 4, 7, 6, 1, 3, 6, 9, 7, 5, 9, 6, 8, 4, 6, 9, 9, 1, 5, 9, 9, 7, 1,\n",
       "       4, 6, 7, 4, 8, 5, 0, 8, 3, 2, 0, 1, 6, 5, 0, 8, 8, 1, 2, 7, 5, 7, 7,\n",
       "       4, 9, 9, 7, 8, 3, 5, 1, 7, 0, 2, 2, 5, 9, 0, 0, 3, 7, 0, 2, 9, 3, 1,\n",
       "       4, 6, 9, 2, 2, 2, 7, 9, 4, 9, 1, 9, 2, 2, 1, 4, 2, 3, 2, 8, 0, 7, 5,\n",
       "       2, 4, 5, 4, 6, 3, 3, 6, 7, 2, 8, 7, 0])"
      ]
     },
     "execution_count": 25,
     "metadata": {},
     "output_type": "execute_result"
    }
   ],
   "source": [
    "pipeline.predict(X_test)"
   ]
  },
  {
   "cell_type": "markdown",
   "metadata": {},
   "source": [
    "Cross-validation with a pipeline\n",
    "---------------------------------"
   ]
  },
  {
   "cell_type": "code",
   "execution_count": 26,
   "metadata": {
    "collapsed": false
   },
   "outputs": [
    {
     "data": {
      "text/plain": [
       "array([ 0.96696035,  0.98663697,  0.98648649])"
      ]
     },
     "execution_count": 26,
     "metadata": {},
     "output_type": "execute_result"
    }
   ],
   "source": [
    "from sklearn.cross_validation import cross_val_score\n",
    "cross_val_score(pipeline, X_train, y_train)"
   ]
  },
  {
   "cell_type": "markdown",
   "metadata": {},
   "source": [
    "Grid Search with a pipeline\n",
    "==========================="
   ]
  },
  {
   "cell_type": "code",
   "execution_count": 27,
   "metadata": {
    "collapsed": false
   },
   "outputs": [],
   "source": [
    "import numpy as np\n",
    "from sklearn.grid_search import GridSearchCV\n",
    "\n",
    "param_grid = {'svc__C': 10. ** np.arange(-3, 3),\n",
    "              'svc__gamma' : 10. ** np.arange(-3, 3)\n",
    "             }\n",
    "\n",
    "grid_pipeline = GridSearchCV(pipeline, param_grid=param_grid)"
   ]
  },
  {
   "cell_type": "code",
   "execution_count": 28,
   "metadata": {
    "collapsed": false
   },
   "outputs": [
    {
     "data": {
      "text/plain": [
       "GridSearchCV(cv=None, error_score='raise',\n",
       "       estimator=Pipeline(steps=[('standardscaler', StandardScaler(copy=True, with_mean=True, with_std=True)), ('svc', SVC(C=1.0, cache_size=200, class_weight=None, coef0=0.0,\n",
       "  decision_function_shape=None, degree=3, gamma='auto', kernel='rbf',\n",
       "  max_iter=-1, probability=False, random_state=None, shrinking=True,\n",
       "  tol=0.001, verbose=False))]),\n",
       "       fit_params={}, iid=True, n_jobs=1,\n",
       "       param_grid={'svc__C': array([  1.00000e-03,   1.00000e-02,   1.00000e-01,   1.00000e+00,\n",
       "         1.00000e+01,   1.00000e+02]), 'svc__gamma': array([  1.00000e-03,   1.00000e-02,   1.00000e-01,   1.00000e+00,\n",
       "         1.00000e+01,   1.00000e+02])},\n",
       "       pre_dispatch='2*n_jobs', refit=True, scoring=None, verbose=0)"
      ]
     },
     "execution_count": 28,
     "metadata": {},
     "output_type": "execute_result"
    }
   ],
   "source": [
    "grid_pipeline.fit(X_train, y_train)"
   ]
  },
  {
   "cell_type": "code",
   "execution_count": 29,
   "metadata": {
    "collapsed": false
   },
   "outputs": [
    {
     "data": {
      "text/plain": [
       "0.97777777777777775"
      ]
     },
     "execution_count": 29,
     "metadata": {},
     "output_type": "execute_result"
    }
   ],
   "source": [
    "grid_pipeline.score(X_test, y_test)"
   ]
  },
  {
   "cell_type": "markdown",
   "metadata": {
    "collapsed": false
   },
   "source": [
    "# Exercise\n",
    "Make a pipeline out of the StandardScaler and KNeighborsClassifier and search over the number of neighbors.\n"
   ]
  },
  {
   "cell_type": "code",
   "execution_count": 31,
   "metadata": {
    "collapsed": false
   },
   "outputs": [
    {
     "data": {
      "text/plain": [
       "KNeighborsClassifier(algorithm='auto', leaf_size=30, metric='minkowski',\n",
       "           metric_params=None, n_jobs=1, n_neighbors=5, p=2,\n",
       "           weights='uniform')"
      ]
     },
     "execution_count": 31,
     "metadata": {},
     "output_type": "execute_result"
    }
   ],
   "source": [
    "# %load solutions/pipeline_knn.py\n",
    "from sklearn.neighbors import KNeighborsClassifier\n",
    "sscaler = StandardScaler()\n",
    "sscaler.fit(X_train)\n",
    "X_train_scaled = sscaler.transform(X_train)\n",
    "knn = KNeighborsClassifier()\n",
    "knn.fit(X_train, y_train)"
   ]
  },
  {
   "cell_type": "code",
   "execution_count": null,
   "metadata": {
    "collapsed": true
   },
   "outputs": [],
   "source": []
  }
 ],
 "metadata": {
  "kernelspec": {
   "display_name": "Python 3",
   "language": "python",
   "name": "python3"
  },
  "language_info": {
   "codemirror_mode": {
    "name": "ipython",
    "version": 3
   },
   "file_extension": ".py",
   "mimetype": "text/x-python",
   "name": "python",
   "nbconvert_exporter": "python",
   "pygments_lexer": "ipython3",
   "version": "3.5.2"
  }
 },
 "nbformat": 4,
 "nbformat_minor": 0
}
